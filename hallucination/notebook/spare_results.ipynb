{
 "cells": [
  {
   "cell_type": "markdown",
   "id": "7383196b",
   "metadata": {},
   "source": [
    "# **Spare Results**"
   ]
  },
  {
   "cell_type": "code",
   "execution_count": 1,
   "id": "4beaeac0",
   "metadata": {},
   "outputs": [],
   "source": [
    "import os\n",
    "import json\n",
    "import numpy as np\n",
    "from pathlib import Path"
   ]
  },
  {
   "cell_type": "markdown",
   "id": "4ab71a43",
   "metadata": {},
   "source": [
    "### **1. Extract model's checkpoints and results**"
   ]
  },
  {
   "cell_type": "code",
   "execution_count": 2,
   "id": "f711caf5",
   "metadata": {},
   "outputs": [],
   "source": [
    "PROJ_DIR = Path(os.path.abspath(os.path.join(os.getcwd(), os.pardir, os.pardir)))"
   ]
  },
  {
   "cell_type": "code",
   "execution_count": 6,
   "id": "15f5ae22",
   "metadata": {},
   "outputs": [],
   "source": [
    "\n",
    "def get_results(model_name, data_name):\n",
    "    if model_name == \"Meta-Llama-3-8B\":\n",
    "        use_context_files = [\n",
    "            f\"Meta-Llama-3-8B-{data_name}-12,13,14,15-0.07-2.0-grouped_activations-mutual_information-True-True-42\"\n",
    "        ]\n",
    "        use_parameter_files = use_context_files\n",
    "\n",
    "    elif model_name == \"Llama-3.1-8B\":\n",
    "        use_context_files = [\n",
    "            f\"Llama-3.1-8B-{data_name}-13,14,15,16-0.07-2.0-grouped_activations-mutual_information-True-True-42\",\n",
    "            f\"Llama-3.1-8B-{data_name}-13,14,15,16-0.07-2.0-grouped_activations-mutual_information-True-True-43\",\n",
    "            f\"Llama-3.1-8B-{data_name}-13,14,15,16-0.07-2.0-grouped_activations-mutual_information-True-True-44\",\n",
    "            f\"Llama-3.1-8B-{data_name}-13,14,15,16-0.07-2.0-grouped_activations-mutual_information-True-True-45\",\n",
    "            f\"Llama-3.1-8B-{data_name}-13,14,15,16-0.07-2.0-grouped_activations-mutual_information-True-True-46\",\n",
    "        ]\n",
    "        use_parameter_files = use_context_files\n",
    "\n",
    "    elif model_name == \"Llama-2-7b-hf\":\n",
    "        use_context_files = [\n",
    "            f\"Llama-2-7b-hf-{data_name}-12,13,14,15-0.07-2.0-grouped_activations-mutual_information-True-True-42\",\n",
    "            f\"Llama-2-7b-hf-{data_name}-12,13,14,15-0.07-2.0-grouped_activations-mutual_information-True-True-43\",\n",
    "            f\"Llama-2-7b-hf-{data_name}-12,13,14,15-0.07-2.0-grouped_activations-mutual_information-True-True-44\",\n",
    "            # seed = 45 exceeds context length\n",
    "            f\"Llama-2-7b-hf-{data_name}-12,13,14,15-0.07-2.0-grouped_activations-mutual_information-True-True-46\",\n",
    "        ]\n",
    "        use_parameter_files = use_context_files\n",
    "        \n",
    "    elif model_name == \"gemma-2-9b\":\n",
    "        use_context_files = [\n",
    "            f\"gemma-2-9b-{data_name}-23,24,25,26-0.01-3.0-grouped_activations-mutual_information-True-True-42\",\n",
    "            f\"gemma-2-9b-{data_name}-23,24,25,26-0.01-3.0-grouped_activations-mutual_information-True-True-43\",\n",
    "            f\"gemma-2-9b-{data_name}-23,24,25,26-0.01-3.0-grouped_activations-mutual_information-True-True-44\",\n",
    "            f\"gemma-2-9b-{data_name}-23,24,25,26-0.01-3.0-grouped_activations-mutual_information-True-True-45\",\n",
    "            f\"gemma-2-9b-{data_name}-23,24,25,26-0.01-3.0-grouped_activations-mutual_information-True-True-46\",\n",
    "        ]\n",
    "        use_parameter_files = [\n",
    "            f\"gemma-2-9b-{data_name}-23,24,25,29,30,31-0.01-1.8-grouped_activations-mutual_information-True-True-42\",\n",
    "            f\"gemma-2-9b-{data_name}-23,24,25,29,30,31-0.01-1.8-grouped_activations-mutual_information-True-True-43\",\n",
    "            f\"gemma-2-9b-{data_name}-23,24,25,29,30,31-0.01-1.8-grouped_activations-mutual_information-True-True-44\",\n",
    "            f\"gemma-2-9b-{data_name}-23,24,25,29,30,31-0.01-1.8-grouped_activations-mutual_information-True-True-45\",\n",
    "            f\"gemma-2-9b-{data_name}-23,24,25,29,30,31-0.01-1.8-grouped_activations-mutual_information-True-True-46\",\n",
    "        ]\n",
    "    else:\n",
    "        raise ValueError\n",
    "\n",
    "    use_context_results = []\n",
    "    for file in use_context_files:\n",
    "        cur_result = json.load(open(PROJ_DIR / \"spare_outputs\" / file, \"r\"))\n",
    "        use_context_results.append(cur_result)\n",
    "\n",
    "    use_parameter_results = []\n",
    "    for file in use_parameter_files:\n",
    "        cur_result = json.load(open(PROJ_DIR / \"spare_outputs\" / file, \"r\"))\n",
    "        use_parameter_results.append(cur_result)\n",
    "\n",
    "    use_context_sub_scores = []\n",
    "    for cur_result in use_context_results:\n",
    "        use_context_sub_scores.append(sum(cur_result[\"use_context_sub_scores\"]) / len(cur_result[\"use_context_sub_scores\"]) * 100)\n",
    "    use_context_org_scores = []\n",
    "    for cur_result in use_parameter_results:\n",
    "        use_context_org_scores.append(sum(cur_result[\"use_context_org_scores\"]) / len(cur_result[\"use_context_org_scores\"]) * 100)\n",
    "\n",
    "    use_parameter_sub_scores = []\n",
    "    for cur_result in use_context_results:\n",
    "        use_parameter_sub_scores.append(sum(cur_result[\"use_parameter_sub_scores\"]) / len(cur_result[\"use_parameter_sub_scores\"]) * 100)\n",
    "    use_parameter_org_scores = []\n",
    "    for cur_result in use_parameter_results:\n",
    "        use_parameter_org_scores.append(sum(cur_result[\"use_parameter_org_scores\"]) / len(cur_result[\"use_parameter_org_scores\"]) * 100)\n",
    "\n",
    "    print(\"use_context_sub_scores\")\n",
    "    print(use_context_sub_scores)\n",
    "    print(f\"avg: {np.mean(use_context_sub_scores):.2f}\")\n",
    "    print(f\"std: {np.std(use_context_sub_scores):.2f}\")\n",
    "\n",
    "    print(\"use_context_org_scores\")\n",
    "    print(use_context_org_scores)\n",
    "    print(f\"avg: {np.mean(use_context_org_scores):.2f}\")\n",
    "    print(f\"std: {np.std(use_context_org_scores):.2f}\")\n",
    "\n",
    "    print(\"use_parameter_sub_scores\")\n",
    "    print(use_parameter_sub_scores)\n",
    "    print(f\"avg: {np.mean(use_parameter_sub_scores):.2f}\")\n",
    "    print(f\"std: {np.std(use_parameter_sub_scores):.2f}\")\n",
    "\n",
    "    print(\"use_parameter_org_scores\")\n",
    "    print(use_parameter_org_scores)\n",
    "    print(f\"avg: {np.mean(use_parameter_org_scores):.2f}\")\n",
    "    print(f\"std: {np.std(use_parameter_org_scores):.2f}\")"
   ]
  },
  {
   "cell_type": "code",
   "execution_count": 7,
   "id": "dc413d10",
   "metadata": {},
   "outputs": [],
   "source": [
    "MODEL_NAME = \"Meta-Llama-3-8B\"\n",
    "DATASET = \"nqswap\""
   ]
  },
  {
   "cell_type": "code",
   "execution_count": 8,
   "id": "6d54db35",
   "metadata": {},
   "outputs": [
    {
     "name": "stdout",
     "output_type": "stream",
     "text": [
      "use_context_sub_scores\n",
      "[74.01323294547115]\n",
      "avg: 74.01\n",
      "std: 0.00\n",
      "use_context_org_scores\n",
      "[2.6922199406798994]\n",
      "avg: 2.69\n",
      "std: 0.00\n",
      "use_parameter_sub_scores\n",
      "[12.092174309833448]\n",
      "avg: 12.09\n",
      "std: 0.00\n",
      "use_parameter_org_scores\n",
      "[42.93862651152179]\n",
      "avg: 42.94\n",
      "std: 0.00\n"
     ]
    }
   ],
   "source": [
    "get_results(MODEL_NAME, DATASET)"
   ]
  },
  {
   "cell_type": "code",
   "execution_count": null,
   "id": "3fa0a229",
   "metadata": {},
   "outputs": [],
   "source": []
  }
 ],
 "metadata": {
  "kernelspec": {
   "display_name": "SAE-based-representation-engineering",
   "language": "python",
   "name": "python3"
  },
  "language_info": {
   "codemirror_mode": {
    "name": "ipython",
    "version": 3
   },
   "file_extension": ".py",
   "mimetype": "text/x-python",
   "name": "python",
   "nbconvert_exporter": "python",
   "pygments_lexer": "ipython3",
   "version": "3.9.23"
  }
 },
 "nbformat": 4,
 "nbformat_minor": 5
}
